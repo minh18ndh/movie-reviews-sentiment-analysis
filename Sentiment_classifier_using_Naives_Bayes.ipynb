{
  "nbformat": 4,
  "nbformat_minor": 0,
  "metadata": {
    "colab": {
      "provenance": []
    },
    "kernelspec": {
      "name": "python3",
      "display_name": "Python 3"
    },
    "language_info": {
      "name": "python"
    }
  },
  "cells": [
    {
      "cell_type": "code",
      "execution_count": 187,
      "metadata": {
        "colab": {
          "base_uri": "https://localhost:8080/"
        },
        "id": "9vLSdaSW_Hup",
        "outputId": "5fed99c4-1fb5-434b-8412-3cf5cf64ad7e"
      },
      "outputs": [
        {
          "output_type": "stream",
          "name": "stdout",
          "text": [
            "Drive already mounted at /content/drive; to attempt to forcibly remount, call drive.mount(\"/content/drive\", force_remount=True).\n"
          ]
        }
      ],
      "source": [
        "from google.colab import drive\n",
        "drive.mount('/content/drive')"
      ]
    },
    {
      "cell_type": "code",
      "source": [
        "import nltk\n",
        "nltk.download('punkt')\n",
        "nltk.download('stopwords')\n",
        "nltk.download('wordnet')\n",
        "nltk.download('omw-1.4')"
      ],
      "metadata": {
        "colab": {
          "base_uri": "https://localhost:8080/"
        },
        "id": "wrAzDwdwALXV",
        "outputId": "68da9751-ee97-4cd4-fa15-4db60171e9a1"
      },
      "execution_count": 188,
      "outputs": [
        {
          "output_type": "stream",
          "name": "stderr",
          "text": [
            "[nltk_data] Downloading package punkt to /root/nltk_data...\n",
            "[nltk_data]   Package punkt is already up-to-date!\n",
            "[nltk_data] Downloading package stopwords to /root/nltk_data...\n",
            "[nltk_data]   Package stopwords is already up-to-date!\n",
            "[nltk_data] Downloading package wordnet to /root/nltk_data...\n",
            "[nltk_data]   Package wordnet is already up-to-date!\n",
            "[nltk_data] Downloading package omw-1.4 to /root/nltk_data...\n",
            "[nltk_data]   Package omw-1.4 is already up-to-date!\n"
          ]
        },
        {
          "output_type": "execute_result",
          "data": {
            "text/plain": [
              "True"
            ]
          },
          "metadata": {},
          "execution_count": 188
        }
      ]
    },
    {
      "cell_type": "code",
      "source": [
        "from collections import defaultdict\n",
        "import math\n",
        "\n",
        "from nltk.corpus import stopwords\n",
        "from nltk.stem import WordNetLemmatizer\n",
        "from nltk.tokenize import RegexpTokenizer\n",
        "import pandas as pd\n",
        "\n",
        "df = pd.read_csv('/content/drive/MyDrive/imdb_reviews.csv')\n",
        "print(df)"
      ],
      "metadata": {
        "colab": {
          "base_uri": "https://localhost:8080/"
        },
        "id": "hT4sFcYfASnj",
        "outputId": "597f4abd-a89d-45cb-9dac-bbb3ff1532da"
      },
      "execution_count": 189,
      "outputs": [
        {
          "output_type": "stream",
          "name": "stdout",
          "text": [
            "                                                 review sentiment\n",
            "0     One of the other reviewers has mentioned that ...  positive\n",
            "1     A wonderful little production. <br /><br />The...  positive\n",
            "2     I thought this was a wonderful way to spend ti...  positive\n",
            "3     Basically there's a family where a little boy ...  negative\n",
            "4     Petter Mattei's \"Love in the Time of Money\" is...  positive\n",
            "...                                                 ...       ...\n",
            "4993  This is a painfully slow story about the last ...  negative\n",
            "4994  Joel schumacher Made a heck of a choice when h...  positive\n",
            "4995  An interesting slasher film with multiple susp...  negative\n",
            "4996  i watched this series when it first came out i...  positive\n",
            "4997  Once again Jet Li brings his charismatic prese...  positive\n",
            "\n",
            "[4998 rows x 2 columns]\n"
          ]
        }
      ]
    },
    {
      "cell_type": "code",
      "source": [
        "lemmatizer = WordNetLemmatizer()\n",
        "print('Test lemmatizer:', lemmatizer.lemmatize('geese'))\n",
        "\n",
        "# word_counts[word][0] = occurrences of word in negative reviews\n",
        "# word_counts[word][1] = occurrences of word in positive reviews\n",
        "word_counts = defaultdict(lambda: [0, 0]) # returns [0, 0] by default if the key does not exist\n",
        "\n",
        "STOP_WORDS = stopwords.words('english')\n",
        "print('Test stopwords:', STOP_WORDS[0:6])\n",
        "\n",
        "tokenizer = RegexpTokenizer(r'\\w+')\n",
        "print('Test tokenizer:', tokenizer.tokenize('Hello, my name is Minh'))\n",
        "\n",
        "sentiment = list(df['sentiment'])\n",
        "\n",
        "done =  0\n",
        "\n",
        "total_positive_words = 0\n",
        "total_negative_words = 0\n",
        "\n",
        "# keep track of the number of positive and negative reviews (prior probabilities)\n",
        "total_positive_reviews = 0\n",
        "total_negative_reviews = 0"
      ],
      "metadata": {
        "id": "MBE2lOvFCTR5",
        "colab": {
          "base_uri": "https://localhost:8080/"
        },
        "outputId": "228aadaa-517d-4d35-dffe-94e2bc8655fb"
      },
      "execution_count": 190,
      "outputs": [
        {
          "output_type": "stream",
          "name": "stdout",
          "text": [
            "Test lemmatizer: goose\n",
            "Test stopwords: ['i', 'me', 'my', 'myself', 'we', 'our']\n",
            "Test tokenizer: ['Hello', 'my', 'name', 'is', 'Minh']\n"
          ]
        }
      ]
    },
    {
      "cell_type": "code",
      "source": [
        "for ele in enumerate(list(df['review'])):\n",
        "  if ele[0] < 3:\n",
        "   print(ele)"
      ],
      "metadata": {
        "colab": {
          "base_uri": "https://localhost:8080/"
        },
        "id": "kr3owitzfGJD",
        "outputId": "24cd722a-6a0e-4890-c12c-e0a605895632"
      },
      "execution_count": 191,
      "outputs": [
        {
          "output_type": "stream",
          "name": "stdout",
          "text": [
            "(0, \"One of the other reviewers has mentioned that after watching just 1 Oz episode you'll be hooked. They are right, as this is exactly what happened with me.<br /><br />The first thing that struck me about Oz was its brutality and unflinching scenes of violence, which set in right from the word GO. Trust me, this is not a show for the faint hearted or timid. This show pulls no punches with regards to drugs, sex or violence. Its is hardcore, in the classic use of the word.<br /><br />It is called OZ as that is the nickname given to the Oswald Maximum Security State Penitentary. It focuses mainly on Emerald City, an experimental section of the prison where all the cells have glass fronts and face inwards, so privacy is not high on the agenda. Em City is home to many..Aryans, Muslims, gangstas, Latinos, Christians, Italians, Irish and more....so scuffles, death stares, dodgy dealings and shady agreements are never far away.<br /><br />I would say the main appeal of the show is due to the fact that it goes where other shows wouldn't dare. Forget pretty pictures painted for mainstream audiences, forget charm, forget romance...OZ doesn't mess around. The first episode I ever saw struck me as so nasty it was surreal, I couldn't say I was ready for it, but as I watched more, I developed a taste for Oz, and got accustomed to the high levels of graphic violence. Not just violence, but injustice (crooked guards who'll be sold out for a nickel, inmates who'll kill on order and get away with it, well mannered, middle class inmates being turned into prison bitches due to their lack of street skills or prison experience) Watching Oz, you may become comfortable with what is uncomfortable viewing....thats if you can get in touch with your darker side.\")\n",
            "(1, 'A wonderful little production. <br /><br />The filming technique is very unassuming- very old-time-BBC fashion and gives a comforting, and sometimes discomforting, sense of realism to the entire piece. <br /><br />The actors are extremely well chosen- Michael Sheen not only \"has got all the polari\" but he has all the voices down pat too! You can truly see the seamless editing guided by the references to Williams\\' diary entries, not only is it well worth the watching but it is a terrificly written and performed piece. A masterful production about one of the great master\\'s of comedy and his life. <br /><br />The realism really comes home with the little things: the fantasy of the guard which, rather than use the traditional \\'dream\\' techniques remains solid then disappears. It plays on our knowledge and our senses, particularly with the scenes concerning Orton and Halliwell and the sets (particularly of their flat with Halliwell\\'s murals decorating every surface) are terribly well done.')\n",
            "(2, 'I thought this was a wonderful way to spend time on a too hot summer weekend, sitting in the air conditioned theater and watching a light-hearted comedy. The plot is simplistic, but the dialogue is witty and the characters are likable (even the well bread suspected serial killer). While some may be disappointed when they realize this is not Match Point 2: Risk Addiction, I thought it was proof that Woody Allen is still fully in control of the style many of us have grown to love.<br /><br />This was the most I\\'d laughed at one of Woody\\'s comedies in years (dare I say a decade?). While I\\'ve never been impressed with Scarlet Johanson, in this she managed to tone down her \"sexy\" image and jumped right into a average, but spirited young woman.<br /><br />This may not be the crown jewel of his career, but it was wittier than \"Devil Wears Prada\" and more interesting than \"Superman\" a great comedy to go see with friends.')\n"
          ]
        }
      ]
    },
    {
      "cell_type": "code",
      "source": [
        "for i, review in enumerate(list(df['review'])):\n",
        "    if sentiment[i] == 'positive':\n",
        "        total_positive_reviews += 1\n",
        "    else:\n",
        "        total_negative_reviews += 1\n",
        "\n",
        "    for token in tokenizer.tokenize(review):\n",
        "        token = token.lower()\n",
        "        token = lemmatizer.lemmatize(token)\n",
        "        if token not in STOP_WORDS:\n",
        "            if sentiment[i] == 'positive':\n",
        "                word_counts[token][1] += 1\n",
        "                total_positive_words += 1\n",
        "            else:\n",
        "                word_counts[token][0] += 1\n",
        "                total_negative_words += 1"
      ],
      "metadata": {
        "id": "a0hdBWnGCZck"
      },
      "execution_count": 192,
      "outputs": []
    },
    {
      "cell_type": "code",
      "source": [
        "word_counts_list = list(word_counts.items())\n",
        "print('Test word_counts:')\n",
        "print(' ', word_counts_list[0:5])\n",
        "\n",
        "print('Vocabulary:', len(word_counts), 'words')"
      ],
      "metadata": {
        "colab": {
          "base_uri": "https://localhost:8080/"
        },
        "id": "ROYHrSkwbkVG",
        "outputId": "3504a04e-91df-4bf3-9c8e-c8db10fd7ac1"
      },
      "execution_count": 201,
      "outputs": [
        {
          "output_type": "stream",
          "name": "stdout",
          "text": [
            "Test word_counts:\n",
            "  [('one', [2702, 2796]), ('reviewer', [54, 44]), ('ha', [1556, 1712]), ('mentioned', [56, 67]), ('watching', [540, 409])]\n",
            "Vocabulary: 34767 words\n"
          ]
        }
      ]
    },
    {
      "cell_type": "code",
      "source": [
        "def calculate_word_probability(word, sentiment):\n",
        "    if sentiment == 'positive':\n",
        "        return math.log((word_counts[word][1] + 1) / (total_positive_words + len(word_counts)))\n",
        "    else:\n",
        "        return math.log((word_counts[word][0] + 1) / (total_negative_words + len(word_counts)))\n",
        "\n",
        "\n",
        "def calculate_review_probability(review, sentiment):\n",
        "    if sentiment == 'positive':\n",
        "        probability = math.log(total_positive_reviews / len(df))\n",
        "    else:\n",
        "        probability = math.log(total_negative_reviews / len(df))\n",
        "\n",
        "    for token in tokenizer.tokenize(review):\n",
        "        token = token.lower()\n",
        "        token = lemmatizer.lemmatize(token)\n",
        "        if token not in STOP_WORDS:\n",
        "            probability += calculate_word_probability(token, sentiment)\n",
        "    return probability\n",
        "\n",
        "\n",
        "def predict(review):\n",
        "    if calculate_review_probability(review, 'positive') > calculate_review_probability(review, 'negative'):\n",
        "        return 'positive'\n",
        "    else:\n",
        "        return 'negative'"
      ],
      "metadata": {
        "id": "lB6rsgaWDILy"
      },
      "execution_count": 194,
      "outputs": []
    },
    {
      "cell_type": "code",
      "source": [
        "print('The review is:', predict('This movie was awesome'))\n",
        "print('The review is:', predict('Not so good. I found it boring'))"
      ],
      "metadata": {
        "colab": {
          "base_uri": "https://localhost:8080/"
        },
        "id": "rnuHLsZlDLt4",
        "outputId": "2e1bf80f-c471-4a3b-9618-5a42642223fd"
      },
      "execution_count": 195,
      "outputs": [
        {
          "output_type": "stream",
          "name": "stdout",
          "text": [
            "The review is: positive\n",
            "The review is: negative\n"
          ]
        }
      ]
    },
    {
      "cell_type": "code",
      "source": [
        "correct  = 0\n",
        "incorrect = 0\n",
        "sentiments = list(df['sentiment'])\n",
        "for i, text in enumerate(list(df['review'])):\n",
        "    if predict(text) == sentiments[i]:\n",
        "        correct += 1\n",
        "    else:\n",
        "        incorrect += 1\n",
        "\n",
        "print('Accuracy of the classifier:', round(correct / (correct + incorrect) * 100, 2), '%')"
      ],
      "metadata": {
        "colab": {
          "base_uri": "https://localhost:8080/"
        },
        "id": "QeBDfugCDRmQ",
        "outputId": "329a1478-9515-4314-8af9-6c15c9a4f8a9"
      },
      "execution_count": 196,
      "outputs": [
        {
          "output_type": "stream",
          "name": "stdout",
          "text": [
            "Accuracy of the classifier: 95.04 %\n"
          ]
        }
      ]
    }
  ]
}